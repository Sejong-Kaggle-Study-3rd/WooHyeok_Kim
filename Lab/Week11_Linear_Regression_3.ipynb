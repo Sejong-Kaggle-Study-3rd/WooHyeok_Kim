{
  "nbformat": 4,
  "nbformat_minor": 0,
  "metadata": {
    "kernelspec": {
      "display_name": "Python 3",
      "language": "python",
      "name": "python3"
    },
    "language_info": {
      "codemirror_mode": {
        "name": "ipython",
        "version": 3
      },
      "file_extension": ".py",
      "mimetype": "text/x-python",
      "name": "python",
      "nbconvert_exporter": "python",
      "pygments_lexer": "ipython3",
      "version": "3.7.0"
    },
    "colab": {
      "name": "Week11_Linear_Regression_3",
      "provenance": [],
      "collapsed_sections": []
    }
  },
  "cells": [
    {
      "cell_type": "markdown",
      "metadata": {
        "id": "McZIpmOe0a6r"
      },
      "source": [
        "# Lab 4-1: Multivariate Linear Regression"
      ]
    },
    {
      "cell_type": "markdown",
      "metadata": {
        "id": "UDqk5dF00a6u"
      },
      "source": [
        "## Theoretical Overview"
      ]
    },
    {
      "cell_type": "markdown",
      "metadata": {
        "id": "BvfBIgEI0a6v"
      },
      "source": [
        "$$ H(x_1, x_2, x_3) = x_1w_1 + x_2w_2 + x_3w_3 + b $$"
      ]
    },
    {
      "cell_type": "markdown",
      "metadata": {
        "id": "F3DoqZ--0a6v"
      },
      "source": [
        "$$ cost(W, b) = \\frac{1}{m} \\sum^m_{i=1} \\left( H(x^{(i)}) - y^{(i)} \\right)^2 $$"
      ]
    },
    {
      "cell_type": "markdown",
      "metadata": {
        "id": "ms9Fo9bS0a6w"
      },
      "source": [
        " - $H(x)$: 주어진 $x$ 값에 대해 예측을 어떻게 할 것인가\n",
        " - $cost(W, b)$: $H(x)$ 가 $y$ 를 얼마나 잘 예측했는가"
      ]
    },
    {
      "cell_type": "markdown",
      "metadata": {
        "id": "RU3kYG0c0a6w"
      },
      "source": [
        "## Imports"
      ]
    },
    {
      "cell_type": "code",
      "metadata": {
        "id": "coYX71Aq0a6x"
      },
      "source": [
        "import torch\n",
        "import torch.optim as optim"
      ],
      "execution_count": null,
      "outputs": []
    },
    {
      "cell_type": "code",
      "metadata": {
        "id": "HkPxM3-60a60",
        "colab": {
          "base_uri": "https://localhost:8080/"
        },
        "outputId": "bebe7328-73c6-4c87-c9be-c7ff3a5010aa"
      },
      "source": [
        "# For reproducibility\n",
        "torch.manual_seed(1)"
      ],
      "execution_count": null,
      "outputs": [
        {
          "output_type": "execute_result",
          "data": {
            "text/plain": [
              "<torch._C.Generator at 0x7f01a0305950>"
            ]
          },
          "metadata": {
            "tags": []
          },
          "execution_count": 2
        }
      ]
    },
    {
      "cell_type": "markdown",
      "metadata": {
        "id": "r1YeWQCQ0a63"
      },
      "source": [
        "## Naive Data Representation"
      ]
    },
    {
      "cell_type": "markdown",
      "metadata": {
        "id": "7FLA7SE-0a64"
      },
      "source": [
        "We will use fake data for this example."
      ]
    },
    {
      "cell_type": "code",
      "metadata": {
        "id": "0tZT6O670a64"
      },
      "source": [
        "# 데이터: 학생의 퀴즈1, 퀴즈2, 퀴즈3 점수로 기말고사 점수 예측\n",
        "x1_train = torch.FloatTensor([[73], [93], [89], [96], [73]])\n",
        "x2_train = torch.FloatTensor([[80], [88], [91], [98], [66]])\n",
        "x3_train = torch.FloatTensor([[75], [93], [90], [100], [70]])\n",
        "y_train = torch.FloatTensor([[152], [185], [180], [196], [142]])"
      ],
      "execution_count": null,
      "outputs": []
    },
    {
      "cell_type": "code",
      "metadata": {
        "id": "kC7PxWDr0a67",
        "colab": {
          "base_uri": "https://localhost:8080/"
        },
        "outputId": "4f1bc5d3-b3f9-4c4f-f698-e3f9ecfeca79"
      },
      "source": [
        "# 모델 초기화\n",
        "w1 = torch.zeros(1, requires_grad=True) # 0으로 초기화 + requires_grad=True - 학습용 데이터로 사용!!\n",
        "w2 = torch.zeros(1, requires_grad=True)\n",
        "w3 = torch.zeros(1, requires_grad=True)\n",
        "b = torch.zeros(1, requires_grad=True)\n",
        "\n",
        "# optimizer 설정\n",
        "optimizer = optim.SGD([w1, w2, w3, b], lr=1e-5) \n",
        "# lr = 1e-5 (0.00001) 이렇게 설정 -> w를 갱신하는 값이 너무 작음\n",
        "# lr = 1e-3 (0.001) 이렇게 설정 -> lr을 너무 크게 잡아서 발산함 -> nan 값 뜸\n",
        "# lr = 1e-4 (0.0001) 도 발산... 결국 lr = 1e-5 사용해야함!!\n",
        "\n",
        "nb_epochs = 10000\n",
        "for epoch in range(nb_epochs + 1):\n",
        "    \n",
        "    # H(x) 계산\n",
        "    hypothesis = x1_train * w1 + x2_train * w2 + x3_train * w3 + b\n",
        "\n",
        "    # cost 계산\n",
        "    cost = torch.mean((hypothesis - y_train) ** 2)\n",
        "\n",
        "    # cost로 H(x) 개선\n",
        "    optimizer.zero_grad()\n",
        "    cost.backward()\n",
        "    optimizer.step()\n",
        "\n",
        "    # 100번마다 로그 출력\n",
        "    if epoch % 100 == 0:\n",
        "        print('Epoch {:4d}/{} w1: {:.3f} w2: {:.3f} w3: {:.3f} b: {:.3f} Cost: {:.6f}'.format(\n",
        "            epoch, nb_epochs, w1.item(), w3.item(), w3.item(), b.item(), cost.item()\n",
        "        ))"
      ],
      "execution_count": null,
      "outputs": [
        {
          "output_type": "stream",
          "text": [
            "Epoch    0/1000 w1: 29.401 w2: 29.738 w3: 29.738 b: 0.342 Cost: 29661.800781\n",
            "Epoch  100/1000 w1: nan w2: nan w3: nan b: nan Cost: nan\n",
            "Epoch  200/1000 w1: nan w2: nan w3: nan b: nan Cost: nan\n",
            "Epoch  300/1000 w1: nan w2: nan w3: nan b: nan Cost: nan\n",
            "Epoch  400/1000 w1: nan w2: nan w3: nan b: nan Cost: nan\n",
            "Epoch  500/1000 w1: nan w2: nan w3: nan b: nan Cost: nan\n",
            "Epoch  600/1000 w1: nan w2: nan w3: nan b: nan Cost: nan\n",
            "Epoch  700/1000 w1: nan w2: nan w3: nan b: nan Cost: nan\n",
            "Epoch  800/1000 w1: nan w2: nan w3: nan b: nan Cost: nan\n",
            "Epoch  900/1000 w1: nan w2: nan w3: nan b: nan Cost: nan\n",
            "Epoch 1000/1000 w1: nan w2: nan w3: nan b: nan Cost: nan\n"
          ],
          "name": "stdout"
        }
      ]
    },
    {
      "cell_type": "markdown",
      "metadata": {
        "id": "035iuRAm0a69"
      },
      "source": [
        "## Matrix Data Representation"
      ]
    },
    {
      "cell_type": "markdown",
      "metadata": {
        "id": "WTW_7xtg0a69"
      },
      "source": [
        "$$\n",
        "\\begin{pmatrix}\n",
        "x_1 & x_2 & x_3\n",
        "\\end{pmatrix}\n",
        "\\cdot\n",
        "\\begin{pmatrix}\n",
        "w_1 \\\\\n",
        "w_2 \\\\\n",
        "w_3 \\\\\n",
        "\\end{pmatrix}\n",
        "=\n",
        "\\begin{pmatrix}\n",
        "x_1w_1 + x_2w_2 + x_3w_3\n",
        "\\end{pmatrix}\n",
        "$$"
      ]
    },
    {
      "cell_type": "markdown",
      "metadata": {
        "id": "bl800ccG0a6-"
      },
      "source": [
        "$$ H(X) = XW $$"
      ]
    },
    {
      "cell_type": "code",
      "metadata": {
        "id": "8RIiVFC00a6-"
      },
      "source": [
        "x_train = torch.FloatTensor([[73, 80, 75],\n",
        "                             [93, 88, 93],\n",
        "                             [89, 91, 90],\n",
        "                             [96, 98, 100],\n",
        "                             [73, 66, 70]])\n",
        "y_train = torch.FloatTensor([[152], [185], [180], [196], [142]])"
      ],
      "execution_count": null,
      "outputs": []
    },
    {
      "cell_type": "code",
      "metadata": {
        "id": "4DofTSTA0a7B",
        "colab": {
          "base_uri": "https://localhost:8080/"
        },
        "outputId": "9a73747b-96bb-47d9-db63-4b390985dee3"
      },
      "source": [
        "print(x_train.shape)\n",
        "print(y_train.shape)"
      ],
      "execution_count": null,
      "outputs": [
        {
          "output_type": "stream",
          "text": [
            "torch.Size([5, 3])\n",
            "torch.Size([5, 1])\n"
          ],
          "name": "stdout"
        }
      ]
    },
    {
      "cell_type": "code",
      "metadata": {
        "id": "xnvBU3BC0a7D",
        "colab": {
          "base_uri": "https://localhost:8080/"
        },
        "outputId": "735d747f-04b8-4aa7-8dc0-e514bfd734f7"
      },
      "source": [
        "# 모델 초기화\n",
        "\n",
        "W = torch.zeros((3, 1), requires_grad=True)\n",
        "b = torch.zeros(1, requires_grad=True)\n",
        "# optimizer 설정\n",
        "optimizer = optim.SGD([W, b], lr=1e-5)\n",
        "\n",
        "nb_epochs = 20\n",
        "for epoch in range(nb_epochs + 1):\n",
        "    \n",
        "    # H(x) 계산\n",
        "    # Matrix 연산!!\n",
        "    hypothesis = x_train.matmul(W) + b # or .mm or @\n",
        "\n",
        "    # cost 계산\n",
        "    cost = torch.mean((hypothesis - y_train) ** 2)\n",
        "\n",
        "    # cost로 H(x) 개선\n",
        "    optimizer.zero_grad()\n",
        "    cost.backward()\n",
        "    optimizer.step()\n",
        "\n",
        "    # 100번마다 로그 출력\n",
        "    print('Epoch {:4d}/{} hypothesis: {} Cost: {:.6f}'.format(\n",
        "        epoch, nb_epochs, hypothesis.squeeze().detach(), cost.item()\n",
        "    ))"
      ],
      "execution_count": null,
      "outputs": [
        {
          "output_type": "stream",
          "text": [
            "Epoch    0/20 hypothesis: tensor([0., 0., 0., 0., 0.]) Cost: 29661.800781\n",
            "Epoch    1/20 hypothesis: tensor([67.2578, 80.8397, 79.6523, 86.7394, 61.6605]) Cost: 9298.520508\n",
            "Epoch    2/20 hypothesis: tensor([104.9128, 126.0990, 124.2466, 135.3015,  96.1821]) Cost: 2915.712402\n",
            "Epoch    3/20 hypothesis: tensor([125.9942, 151.4381, 149.2133, 162.4896, 115.5097]) Cost: 915.040527\n",
            "Epoch    4/20 hypothesis: tensor([137.7967, 165.6247, 163.1911, 177.7112, 126.3307]) Cost: 287.936096\n",
            "Epoch    5/20 hypothesis: tensor([144.4044, 173.5674, 171.0168, 186.2332, 132.3891]) Cost: 91.371063\n",
            "Epoch    6/20 hypothesis: tensor([148.1035, 178.0143, 175.3980, 191.0042, 135.7812]) Cost: 29.758249\n",
            "Epoch    7/20 hypothesis: tensor([150.1744, 180.5042, 177.8509, 193.6753, 137.6805]) Cost: 10.445267\n",
            "Epoch    8/20 hypothesis: tensor([151.3336, 181.8983, 179.2240, 195.1707, 138.7440]) Cost: 4.391237\n",
            "Epoch    9/20 hypothesis: tensor([151.9824, 182.6789, 179.9928, 196.0079, 139.3396]) Cost: 2.493121\n",
            "Epoch   10/20 hypothesis: tensor([152.3454, 183.1161, 180.4231, 196.4765, 139.6732]) Cost: 1.897688\n",
            "Epoch   11/20 hypothesis: tensor([152.5485, 183.3609, 180.6640, 196.7389, 139.8602]) Cost: 1.710552\n",
            "Epoch   12/20 hypothesis: tensor([152.6620, 183.4982, 180.7988, 196.8857, 139.9651]) Cost: 1.651416\n",
            "Epoch   13/20 hypothesis: tensor([152.7253, 183.5752, 180.8742, 196.9678, 140.0240]) Cost: 1.632369\n",
            "Epoch   14/20 hypothesis: tensor([152.7606, 183.6184, 180.9164, 197.0138, 140.0571]) Cost: 1.625924\n",
            "Epoch   15/20 hypothesis: tensor([152.7802, 183.6427, 180.9399, 197.0395, 140.0759]) Cost: 1.623420\n",
            "Epoch   16/20 hypothesis: tensor([152.7909, 183.6565, 180.9530, 197.0538, 140.0865]) Cost: 1.622152\n",
            "Epoch   17/20 hypothesis: tensor([152.7968, 183.6643, 180.9603, 197.0618, 140.0927]) Cost: 1.621262\n",
            "Epoch   18/20 hypothesis: tensor([152.7999, 183.6688, 180.9644, 197.0661, 140.0963]) Cost: 1.620501\n",
            "Epoch   19/20 hypothesis: tensor([152.8014, 183.6715, 180.9665, 197.0686, 140.0985]) Cost: 1.619757\n",
            "Epoch   20/20 hypothesis: tensor([152.8020, 183.6731, 180.9677, 197.0699, 140.0999]) Cost: 1.619046\n"
          ],
          "name": "stdout"
        }
      ]
    },
    {
      "cell_type": "code",
      "metadata": {
        "id": "32wvmPoiMF10",
        "colab": {
          "base_uri": "https://localhost:8080/"
        },
        "outputId": "9fef0d78-e18e-49b2-e62a-1b7b0accfdda"
      },
      "source": [
        "print(W)\n",
        "print(b)"
      ],
      "execution_count": null,
      "outputs": [
        {
          "output_type": "stream",
          "text": [
            "tensor([[0.6691],\n",
            "        [0.6659],\n",
            "        [0.6758]], requires_grad=True)\n",
            "tensor([0.0078], requires_grad=True)\n"
          ],
          "name": "stdout"
        }
      ]
    },
    {
      "cell_type": "code",
      "metadata": {
        "id": "NxR6bCz9NFn3"
      },
      "source": [
        ""
      ],
      "execution_count": null,
      "outputs": []
    }
  ]
}