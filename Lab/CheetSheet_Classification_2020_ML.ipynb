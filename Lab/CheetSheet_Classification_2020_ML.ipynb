{
  "nbformat": 4,
  "nbformat_minor": 0,
  "metadata": {
    "colab": {
      "name": "CheetSheet_Classification_2020_ML.ipynb",
      "provenance": [],
      "collapsed_sections": []
    },
    "kernelspec": {
      "name": "python3",
      "display_name": "Python 3"
    }
  },
  "cells": [
    {
      "cell_type": "markdown",
      "metadata": {
        "id": "1NgRAVVa6b-z"
      },
      "source": [
        "# 분류 문제 데이터셋\n",
        "## 아래의 예제 중 원하는 데이터 Cell 만 실행\n",
        "- 필기체 숫자 데이터 분류 문제 (MNIST)\n",
        "- 유방암 악성/양성 분류 문제\n",
        "- 당뇨병 환자 분류 문제\n",
        "- 와인 종류 분류 문제"
      ]
    },
    {
      "cell_type": "code",
      "metadata": {
        "id": "XtjwjVMrCBET",
        "colab": {
          "base_uri": "https://localhost:8080/"
        },
        "outputId": "4b0730c0-ec85-4649-89bb-3082e64df369"
      },
      "source": [
        "### MNIST\n",
        "from sklearn import datasets\n",
        "digits=datasets.load_digits()\n",
        "\n",
        "n_samples = len(digits.images)\n",
        "data = digits.images.reshape((n_samples, -1))\n",
        "print(data.shape)\n",
        "\n",
        "from sklearn.model_selection import train_test_split\n",
        "X_train, X_test, y_train, y_test = train_test_split(data, digits.target, test_size=0.3, shuffle=True)\n"
      ],
      "execution_count": 3,
      "outputs": [
        {
          "output_type": "stream",
          "text": [
            "(1797, 64)\n"
          ],
          "name": "stdout"
        }
      ]
    },
    {
      "cell_type": "code",
      "metadata": {
        "id": "9wTzQawMtRzB",
        "colab": {
          "base_uri": "https://localhost:8080/",
          "height": 34
        },
        "outputId": "50243927-4a29-4c2b-bfcc-1c6b9cd57d1e"
      },
      "source": [
        "### 유방암\n",
        "from sklearn import datasets\n",
        "cancer=datasets.load_breast_cancer()\n",
        "\n",
        "n_samples = len(cancer.data)\n",
        "data = cancer.data.reshape((n_samples, -1))\n",
        "print(data.shape)\n",
        "\n",
        "from sklearn.model_selection import train_test_split\n",
        "X_train, X_test, y_train, y_test = train_test_split(data, cancer.target, test_size=0.3, shuffle=True)\n"
      ],
      "execution_count": null,
      "outputs": [
        {
          "output_type": "stream",
          "text": [
            "(569, 30)\n"
          ],
          "name": "stdout"
        }
      ]
    },
    {
      "cell_type": "code",
      "metadata": {
        "id": "7jdI59lptk9h",
        "colab": {
          "base_uri": "https://localhost:8080/",
          "height": 34
        },
        "outputId": "a8d9dca0-e0cc-4384-fae9-d79b251f73d8"
      },
      "source": [
        "### 당뇨병\n",
        "from sklearn import datasets\n",
        "diabetes=datasets.load_diabetes()\n",
        "\n",
        "n_samples = len(diabetes.data)\n",
        "data = diabetes.data.reshape((n_samples, -1))\n",
        "print(data.shape)\n",
        "\n",
        "from sklearn.model_selection import train_test_split\n",
        "X_train, X_test, y_train, y_test = train_test_split(data, diabetes.target, test_size=0.3, shuffle=True)\n"
      ],
      "execution_count": null,
      "outputs": [
        {
          "output_type": "stream",
          "text": [
            "(442, 10)\n"
          ],
          "name": "stdout"
        }
      ]
    },
    {
      "cell_type": "code",
      "metadata": {
        "id": "7M2VVOF_t6Xq",
        "colab": {
          "base_uri": "https://localhost:8080/"
        },
        "outputId": "9a4466de-c166-43fe-e874-475caf23440d"
      },
      "source": [
        "### 와인\n",
        "from sklearn import datasets\n",
        "wine=datasets.load_wine()\n",
        "\n",
        "n_samples = len(wine.data)\n",
        "data = wine.data.reshape((n_samples, -1))\n",
        "print(data.shape)\n",
        "\n",
        "from sklearn.model_selection import train_test_split\n",
        "X_train, X_test, y_train, y_test = train_test_split(data, wine.target, test_size=0.3, shuffle=True)\n"
      ],
      "execution_count": 48,
      "outputs": [
        {
          "output_type": "stream",
          "text": [
            "(178, 13)\n"
          ],
          "name": "stdout"
        }
      ]
    },
    {
      "cell_type": "markdown",
      "metadata": {
        "id": "ffLE4JDY61-7"
      },
      "source": [
        "# 분류 알고리즘 별 성능 평가\n",
        "## [1] 데이터 전처리 본인 스스로 공부!!\n",
        "## [2] 각 알고리즘 마다 설정 가능한 파라미터는 본인 스스로 공부!\n",
        "- Decision Tree Classifier\n",
        "- DA Classifier\n",
        "- Logistic Regression Classifier\n",
        "- KNN Classifier"
      ]
    },
    {
      "cell_type": "markdown",
      "metadata": {
        "id": "xpjsspuCbjfR"
      },
      "source": [
        "### Decision Tree"
      ]
    },
    {
      "cell_type": "code",
      "metadata": {
        "id": "8x7oLPgIZRA4",
        "colab": {
          "base_uri": "https://localhost:8080/"
        },
        "outputId": "6aa8ea66-019a-488d-db28-8c4969186200"
      },
      "source": [
        "from sklearn.tree import DecisionTreeClassifier\n",
        "\n",
        "dtc = DecisionTreeClassifier(criterion='entropy', max_depth=4, random_state=1) # gini, max_depth\n",
        "dtc.fit(X_train, y_train)\n",
        "y_train_pred = dtc.predict(X_train)\n",
        "y_test_pred = dtc.predict(X_test)\n",
        "\n",
        "from sklearn.metrics import accuracy_score\n",
        "print(accuracy_score(y_train, y_train_pred))\n",
        "print(accuracy_score(y_test, y_test_pred))\n",
        "\n",
        "from sklearn.metrics import confusion_matrix\n",
        "print(confusion_matrix(y_test,y_test_pred))"
      ],
      "execution_count": 20,
      "outputs": [
        {
          "output_type": "stream",
          "text": [
            "0.9919354838709677\n",
            "0.9259259259259259\n",
            "[[21  0  0]\n",
            " [ 3 16  1]\n",
            " [ 0  0 13]]\n"
          ],
          "name": "stdout"
        }
      ]
    },
    {
      "cell_type": "markdown",
      "metadata": {
        "id": "1gyvSpVda6WC"
      },
      "source": [
        "### LDA"
      ]
    },
    {
      "cell_type": "code",
      "metadata": {
        "id": "PlWSjMRSaaIe",
        "colab": {
          "base_uri": "https://localhost:8080/"
        },
        "outputId": "ee2e89bf-c7e7-475d-8af1-466bd4ccf723"
      },
      "source": [
        "from sklearn.discriminant_analysis import LinearDiscriminantAnalysis\n",
        "\n",
        "cld = LinearDiscriminantAnalysis()\n",
        "cld.fit(X_train,y_train)\n",
        "y_train_pred = cld.predict(X_train)\n",
        "y_test_pred = cld.predict(X_test)\n",
        "\n",
        "from sklearn.metrics import accuracy_score\n",
        "print(accuracy_score(y_train, y_train_pred))\n",
        "print(accuracy_score(y_test, y_test_pred))\n",
        "\n",
        "from sklearn.metrics import confusion_matrix\n",
        "print(confusion_matrix(y_test,y_test_pred))"
      ],
      "execution_count": 49,
      "outputs": [
        {
          "output_type": "stream",
          "text": [
            "0.9919354838709677\n",
            "1.0\n",
            "[[19  0  0]\n",
            " [ 0 16  0]\n",
            " [ 0  0 19]]\n"
          ],
          "name": "stdout"
        }
      ]
    },
    {
      "cell_type": "markdown",
      "metadata": {
        "id": "vlJCtGfeboVL"
      },
      "source": [
        "### QDA"
      ]
    },
    {
      "cell_type": "code",
      "metadata": {
        "id": "qNl-_RhJbRGa",
        "colab": {
          "base_uri": "https://localhost:8080/"
        },
        "outputId": "dc2a1cb0-188f-445f-cf8c-cafbacee6beb"
      },
      "source": [
        "from sklearn.discriminant_analysis import QuadraticDiscriminantAnalysis\n",
        "\n",
        "cld = QuadraticDiscriminantAnalysis()\n",
        "cld.fit(X_train,y_train)\n",
        "y_train_pred = cld.predict(X_train)\n",
        "y_test_pred = cld.predict(X_test)\n",
        "\n",
        "from sklearn.metrics import accuracy_score\n",
        "print(accuracy_score(y_train, y_train_pred))\n",
        "print(accuracy_score(y_test, y_test_pred))\n",
        "\n",
        "from sklearn.metrics import confusion_matrix\n",
        "print(confusion_matrix(y_test,y_test_pred))"
      ],
      "execution_count": 50,
      "outputs": [
        {
          "output_type": "stream",
          "text": [
            "0.9919354838709677\n",
            "0.9629629629629629\n",
            "[[17  2  0]\n",
            " [ 0 16  0]\n",
            " [ 0  0 19]]\n"
          ],
          "name": "stdout"
        }
      ]
    },
    {
      "cell_type": "markdown",
      "metadata": {
        "id": "cmgN-xTzb3GF"
      },
      "source": [
        "### Logistic Regression"
      ]
    },
    {
      "cell_type": "code",
      "metadata": {
        "id": "KesGPL-PbvBb",
        "colab": {
          "base_uri": "https://localhost:8080/"
        },
        "outputId": "4b90116d-2bca-4a9a-9de2-121f2b40476a"
      },
      "source": [
        "# 표준화\n",
        "from sklearn.preprocessing import StandardScaler\n",
        "sc = StandardScaler()\n",
        "sc.fit(X_train)\n",
        "X_train_std = sc.transform(X_train)\n",
        "X_test_std = sc.transform(X_test)\n",
        "\n",
        "from sklearn.linear_model import LogisticRegression\n",
        "\n",
        "lr = LogisticRegression(random_state=1, penalty='l2', C=1.0)\n",
        "lr.fit(X_train, y_train)\n",
        "y_train_pred = lr.predict(X_train)\n",
        "y_test_pred = lr.predict(X_test)\n",
        "\n",
        "\n",
        "from sklearn.metrics import accuracy_score\n",
        "print(accuracy_score(y_train, y_train_pred))\n",
        "print(accuracy_score(y_test, y_test_pred))\n",
        "\n",
        "from sklearn.metrics import confusion_matrix\n",
        "print(confusion_matrix(y_test,y_test_pred))"
      ],
      "execution_count": 47,
      "outputs": [
        {
          "output_type": "stream",
          "text": [
            "0.9838709677419355\n",
            "0.9629629629629629\n",
            "[[19  1  0]\n",
            " [ 0 18  1]\n",
            " [ 0  0 15]]\n"
          ],
          "name": "stdout"
        },
        {
          "output_type": "stream",
          "text": [
            "/usr/local/lib/python3.7/dist-packages/sklearn/linear_model/_logistic.py:940: ConvergenceWarning: lbfgs failed to converge (status=1):\n",
            "STOP: TOTAL NO. of ITERATIONS REACHED LIMIT.\n",
            "\n",
            "Increase the number of iterations (max_iter) or scale the data as shown in:\n",
            "    https://scikit-learn.org/stable/modules/preprocessing.html\n",
            "Please also refer to the documentation for alternative solver options:\n",
            "    https://scikit-learn.org/stable/modules/linear_model.html#logistic-regression\n",
            "  extra_warning_msg=_LOGISTIC_SOLVER_CONVERGENCE_MSG)\n"
          ],
          "name": "stderr"
        }
      ]
    },
    {
      "cell_type": "markdown",
      "metadata": {
        "id": "DP4zYAc2mXJG"
      },
      "source": [
        "### KNN"
      ]
    },
    {
      "cell_type": "code",
      "metadata": {
        "id": "pB0HZ8VBc9gt",
        "colab": {
          "base_uri": "https://localhost:8080/"
        },
        "outputId": "5d8ff7a0-f818-4a62-8142-13f33fe0e60c"
      },
      "source": [
        "# 표준화\n",
        "from sklearn.preprocessing import StandardScaler\n",
        "sc = StandardScaler()\n",
        "sc.fit(X_train)\n",
        "X_train_std = sc.transform(X_train)\n",
        "X_test_std = sc.transform(X_test)\n",
        "\n",
        "from sklearn.neighbors import KNeighborsClassifier\n",
        "\n",
        "knn = KNeighborsClassifier(n_neighbors=5, p=1)\n",
        "knn.fit(X_train,y_train)\n",
        "\n",
        "y_train_pred = knn.predict(X_train)\n",
        "y_test_pred = knn.predict(X_test)\n",
        "\n",
        "from sklearn.metrics import accuracy_score\n",
        "print(accuracy_score(y_train, y_train_pred))\n",
        "print(accuracy_score(y_test, y_test_pred))\n",
        "\n",
        "from sklearn.metrics import confusion_matrix\n",
        "print(confusion_matrix(y_test,y_test_pred))"
      ],
      "execution_count": 34,
      "outputs": [
        {
          "output_type": "stream",
          "text": [
            "0.8629032258064516\n",
            "0.7777777777777778\n",
            "[[19  2  2]\n",
            " [ 1 18  1]\n",
            " [ 1  5  5]]\n"
          ],
          "name": "stdout"
        }
      ]
    },
    {
      "cell_type": "code",
      "metadata": {
        "id": "gyNN2PXLnONq"
      },
      "source": [
        ""
      ],
      "execution_count": null,
      "outputs": []
    }
  ]
}