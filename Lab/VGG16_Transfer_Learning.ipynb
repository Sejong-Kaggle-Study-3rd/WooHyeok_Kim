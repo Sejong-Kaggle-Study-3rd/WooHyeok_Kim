{
  "nbformat": 4,
  "nbformat_minor": 0,
  "metadata": {
    "accelerator": "GPU",
    "colab": {
      "name": "KimWooHyeok_Python_Code.ipynb",
      "provenance": [],
      "collapsed_sections": []
    },
    "kernelspec": {
      "display_name": "Python 3",
      "name": "python3"
    },
    "language_info": {
      "name": "python"
    }
  },
  "cells": [
    {
      "cell_type": "markdown",
      "metadata": {
        "id": "Dx3MwrkmgRc2"
      },
      "source": [
        "# <연구발표>\n",
        "### [VGG16 net + Transfer Learning] + Adam & RMSprop\n",
        "##### 무인이동체공학과 17011882 김 우 혁"
      ]
    },
    {
      "cell_type": "markdown",
      "metadata": {
        "id": "8KlJGpwrhpTP"
      },
      "source": [
        "##### Pytorch 공식 사이트의 Transfer Learning 튜토리얼 코드를 참고하였습니다.\n",
        "출처 : https://tutorials.pytorch.kr/beginner/transfer_learning_tutorial.html\n"
      ]
    },
    {
      "cell_type": "markdown",
      "metadata": {
        "id": "mSDSLav0KsQr"
      },
      "source": [
        "#### Data Set Load\n",
        "\n",
        "- 캐글에서 압축되어 있는 데이터셋을 다운 받아 구글 드라이브에 옮긴 뒤, 리눅스 명령어를 사용하여 압축을 풀었더니 일부 데이터가 손실되었습니다.\n",
        "\n",
        "- 많은 시간이 소요되었지만 구글 드라이브에서 직접 데이터셋 압축을 푼 다음 이를 바로 사용하였습니다. "
      ]
    },
    {
      "cell_type": "code",
      "metadata": {
        "colab": {
          "base_uri": "https://localhost:8080/"
        },
        "id": "CA3JrYuGgFmm",
        "outputId": "cafc72e4-c387-48ec-f12c-f5ba5cc37e11"
      },
      "source": [
        "%cd /content/drive/MyDrive/Dataset/\n",
        "!ls"
      ],
      "execution_count": null,
      "outputs": [
        {
          "output_type": "stream",
          "text": [
            "/content/drive/MyDrive/Dataset\n",
            "CAT_DOG      Covid19-dataset\t  FOOD\t    hymenoptera_data\n",
            "CAT_DOG.zip  Covid19-dataset.zip  FOOD.zip  hymenoptera_data.zip\n"
          ],
          "name": "stdout"
        }
      ]
    },
    {
      "cell_type": "code",
      "metadata": {
        "colab": {
          "base_uri": "https://localhost:8080/"
        },
        "id": "TNUS4IFdpv-9",
        "outputId": "01603e56-2322-478e-b504-2370db78bbee"
      },
      "source": [
        "from google.colab import drive # 내 구글 드라이브에 마운트\n",
        "drive.mount('/content/drive')"
      ],
      "execution_count": null,
      "outputs": [
        {
          "output_type": "stream",
          "text": [
            "Mounted at /content/drive\n"
          ],
          "name": "stdout"
        }
      ]
    },
    {
      "cell_type": "code",
      "metadata": {
        "id": "M9au8JdcdBB6"
      },
      "source": [
        "# License: BSD\n",
        "# Author: Sasank Chilamkurthy\n",
        "\n",
        "from __future__ import print_function, division\n",
        "\n",
        "import torch\n",
        "import torch.nn as nn\n",
        "import torch.optim as optim\n",
        "from torch.optim import lr_scheduler\n",
        "import numpy as np\n",
        "import torchvision\n",
        "from torchvision import datasets, models, transforms\n",
        "import matplotlib.pyplot as plt\n",
        "import time\n",
        "import os\n",
        "import copy\n",
        "\n",
        "plt.ion()   # 대화형 모드"
      ],
      "execution_count": null,
      "outputs": []
    },
    {
      "cell_type": "markdown",
      "metadata": {
        "id": "e9DptM8gjRxt"
      },
      "source": [
        "##### 내 드라이브에서 데이터 불러오기\n",
        "\n",
        "- 데이터를 불러오기 위해 **torchvision**과 **torch.utils.data** 패키지를 사용\n",
        "\n"
      ]
    },
    {
      "cell_type": "code",
      "metadata": {
        "id": "w7EgX_gvdtNC"
      },
      "source": [
        "# 학습을 위해 데이터 증가(augmentation) 및 일반화(normalization)\n",
        "# 검증을 위한 일반화\n",
        "data_transforms = {\n",
        "    'train': transforms.Compose([\n",
        "        transforms.RandomResizedCrop(224),\n",
        "        transforms.RandomHorizontalFlip(),\n",
        "        transforms.ToTensor(),\n",
        "        transforms.Normalize([0.485, 0.456, 0.406], [0.229, 0.224, 0.225])\n",
        "    ]),\n",
        "    'val': transforms.Compose([\n",
        "        transforms.Resize(256),\n",
        "        transforms.CenterCrop(224),\n",
        "        transforms.ToTensor(),\n",
        "        transforms.Normalize([0.485, 0.456, 0.406], [0.229, 0.224, 0.225])\n",
        "    ]),\n",
        "}\n",
        "# 내가 사용할 데이터셋 폴더명으로 변경 후 사용!\n",
        "data_dir = '/content/drive/MyDrive/Dataset/Covid19-dataset'\n",
        "\n",
        "# torchvision.datasets.ImageFolder라는 메소드함수를 이용해서 DataLoader를 구축했습니다.\n",
        "image_datasets = {x: datasets.ImageFolder(os.path.join(data_dir, x), data_transforms[x]) for x in ['train', 'val']}\n",
        "# dataloader를 dictionary 형식으로 정의해서 train , validation으로 구분해주었습니다.\n",
        "dataloaders = {x: torch.utils.data.DataLoader(image_datasets[x], batch_size=4, shuffle=True, num_workers=2) for x in ['train', 'val']}\n",
        "# 내가 진행한 실험에서 'batch_size' 하이퍼 파라미터를 데이터셋의 크기에 비례하여 4, 16, 64로 변경 후 사용 \n",
        "dataset_sizes = {x: len(image_datasets[x]) for x in ['train', 'val']}\n",
        "class_names = image_datasets['train'].classes\n",
        "\n",
        "device = torch.device(\"cuda:0\" if torch.cuda.is_available() else \"cpu\")"
      ],
      "execution_count": null,
      "outputs": []
    },
    {
      "cell_type": "markdown",
      "metadata": {
        "id": "8fTl381VX2fS"
      },
      "source": [
        "* dataset에 들어가는 원소는 tuple 형식 \n",
        "\n",
        "* 하나는 이미지를 나타내는 [3 , 224 , 224]의 Tensor , 하나는 이미지의 클래스를 나타내는 Label  "
      ]
    },
    {
      "cell_type": "code",
      "metadata": {
        "colab": {
          "base_uri": "https://localhost:8080/"
        },
        "id": "8WDxduAMXhkP",
        "outputId": "28a2c608-a7bb-4781-ed6a-3bb5d2785328"
      },
      "source": [
        "dataset_sizes # 훈련 데이터와 검증 데이터 크기 확인 -> 검증 데이터를 테스트 데이터로 활용!"
      ],
      "execution_count": null,
      "outputs": [
        {
          "output_type": "execute_result",
          "data": {
            "text/plain": [
              "{'train': 251, 'val': 66}"
            ]
          },
          "metadata": {
            "tags": []
          },
          "execution_count": 35
        }
      ]
    },
    {
      "cell_type": "code",
      "metadata": {
        "colab": {
          "base_uri": "https://localhost:8080/"
        },
        "id": "B2-rajeQw6T_",
        "outputId": "99f54ad2-3ae6-4cb4-b149-3fda61d2a92a"
      },
      "source": [
        "class_names # 클래스 종류 확인"
      ],
      "execution_count": null,
      "outputs": [
        {
          "output_type": "execute_result",
          "data": {
            "text/plain": [
              "['Covid', 'Normal', 'Viral Pneumonia']"
            ]
          },
          "metadata": {
            "tags": []
          },
          "execution_count": 36
        }
      ]
    },
    {
      "cell_type": "markdown",
      "metadata": {
        "id": "yzs342U3pN11"
      },
      "source": [
        "### 일부 이미지 시각화하기\n",
        "\n",
        "데이터 증가를 이해하기 위해 일부 학습용 이미지를 시각화해보겠습니다."
      ]
    },
    {
      "cell_type": "code",
      "metadata": {
        "colab": {
          "base_uri": "https://localhost:8080/",
          "height": 148
        },
        "id": "Lhz13uJ1dxA7",
        "outputId": "3e4c0303-32af-4340-8a53-b9299150ff7d"
      },
      "source": [
        "def imshow(inp, title=None):\n",
        "    \"\"\"Imshow for Tensor.\"\"\"\n",
        "    inp = inp.numpy().transpose((1, 2, 0))\n",
        "    mean = np.array([0.485, 0.456, 0.406])\n",
        "    std = np.array([0.229, 0.224, 0.225])\n",
        "    inp = std * inp + mean\n",
        "    inp = np.clip(inp, 0, 1)\n",
        "    plt.imshow(inp)\n",
        "    if title is not None:\n",
        "        plt.title(title)\n",
        "    plt.pause(0.001)  # 갱신이 될 때까지 잠시 기다립니다.\n",
        "\n",
        "\n",
        "# 학습 데이터의 배치를 얻습니다.\n",
        "inputs, classes = next(iter(dataloaders['train']))\n",
        "\n",
        "# 배치로부터 격자 형태의 이미지를 만듭니다.\n",
        "out = torchvision.utils.make_grid(inputs)\n",
        "\n",
        "imshow(out, title=[class_names[x] for x in classes])"
      ],
      "execution_count": null,
      "outputs": [
        {
          "output_type": "display_data",
          "data": {
            "image/png": "[encoded data removed]",
            "text/plain": [
              "<Figure size 432x288 with 1 Axes>"
            ]
          },
          "metadata": {
            "tags": [],
            "needs_background": "light"
          }
        }
      ]
    },
    {
      "cell_type": "markdown",
      "metadata": {
        "id": "DXhL_WzWeZQm"
      },
      "source": [
        "### 모델 학습\n",
        "\n",
        "- 이제 모델을 학습하기 위한 일반 함수를 작성: 학습률(learning rate) 관리(scheduling) + 최적의 모델 구하기\n",
        "\n",
        "- 아래에서 scheduler 매개변수는 torch.optim.lr_scheduler 의 LR 스케쥴러 객체(Object)"
      ]
    },
    {
      "cell_type": "code",
      "metadata": {
        "id": "jL37PrjOd0Rc"
      },
      "source": [
        "def train_model(model, criterion, optimizer, scheduler, num_epochs=25):\n",
        "    since = time.time()\n",
        "\n",
        "    # 정확도 & 손실을 측정하기 위한 리스트 생성\n",
        "    hist_loss = []\n",
        "    hist_acc = []\n",
        "\n",
        "    best_model_wts = copy.deepcopy(model.state_dict())\n",
        "    best_acc = 0.0\n",
        "\n",
        "    for epoch in range(num_epochs):\n",
        "        print('Epoch {}/{}'.format(epoch, num_epochs - 1))\n",
        "        print('-' * 10)\n",
        "\n",
        "        # 각 에폭(epoch)은 학습 단계와 검증 단계를 갖습니다.\n",
        "        for phase in ['train', 'val']:\n",
        "            if phase == 'train':\n",
        "                model.train()  # 모델을 학습 모드로 설정\n",
        "            else:\n",
        "                model.eval()   # 모델을 평가 모드로 설정\n",
        "\n",
        "            running_loss = 0.0\n",
        "            running_corrects = 0\n",
        "\n",
        "            # 데이터를 반복\n",
        "            for inputs, labels in dataloaders[phase]:\n",
        "                ## model에 넣어줘야 하기 때문에 GPU로 보내줌\n",
        "                inputs = inputs.to(device)\n",
        "                labels = labels.to(device)\n",
        "\n",
        "                # 매개변수 경사도를 0으로 설정\n",
        "                optimizer.zero_grad()\n",
        "\n",
        "                # 순전파\n",
        "                # 학습 시에만 연산 기록을 추적, 즉 train 상태일 때만 parameter 들을 update!!\n",
        "                with torch.set_grad_enabled(phase == 'train'):\n",
        "                    outputs = model(inputs)\n",
        "                    _, preds = torch.max(outputs, 1)\n",
        "                    loss = criterion(outputs, labels)\n",
        "\n",
        "                    # 학습 단계인 경우 역전파 + 최적화\n",
        "                    if phase == 'train':\n",
        "                        loss.backward()\n",
        "                        optimizer.step()\n",
        "\n",
        "                # 통계\n",
        "                running_loss += loss.item() * inputs.size(0)\n",
        "                running_corrects += torch.sum(preds == labels.data)\n",
        "            if phase == 'train':\n",
        "                scheduler.step()\n",
        "            # loss와 accuracy를 계산해줍니다.          \n",
        "            epoch_loss = running_loss / dataset_sizes[phase]\n",
        "            epoch_acc = running_corrects.double() / dataset_sizes[phase]\n",
        "\n",
        "            if phase == 'val': # 검증(테스트) 단계인 경우\n",
        "                hist_loss.append(epoch_loss) # 위에서 생성한 리스트에 에포크당 손실 추가\n",
        "                hist_acc.append(epoch_acc) # 위에서 생성한 리스트에 에포크당 정확도 추가\n",
        "\n",
        "            print('{} Loss: {:.4f} Acc: {:.4f}'.format(\n",
        "                phase, epoch_loss, epoch_acc))\n",
        "\n",
        "            # 모델을 깊은 복사(deep copy)함\n",
        "            if phase == 'val' and epoch_acc > best_acc:\n",
        "                best_acc = epoch_acc\n",
        "                best_model_wts = copy.deepcopy(model.state_dict())\n",
        "\n",
        "        print()\n",
        "\n",
        "    time_elapsed = time.time() - since\n",
        "    print('Training complete in {:.0f}m {:.0f}s'.format(\n",
        "        time_elapsed // 60, time_elapsed % 60))\n",
        "    print('Best val Acc: {:4f}'.format(best_acc))\n",
        "\n",
        "    # 가장 나은 모델 가중치를 불러옴\n",
        "    model.load_state_dict(best_model_wts)\n",
        "    # 학습한 모델과 에포크당 손실, 정확도 리스트 반환\n",
        "    return model, hist_loss, hist_acc"
      ],
      "execution_count": null,
      "outputs": []
    },
    {
      "cell_type": "markdown",
      "metadata": {
        "id": "ZEI6eWjEphoj"
      },
      "source": [
        "### 합성곱 신경망 미세조정(finetuning)\n",
        "\n",
        "- 미리 학습한 모델을 불러온 후 마지막의 완전히 연결된 계층을 초기화\n",
        "- 나의 데이터셋 클래스 수에 맞게 FC Layer를 추가하여 사용"
      ]
    },
    {
      "cell_type": "markdown",
      "metadata": {
        "id": "L4Qr1Ak9TRei"
      },
      "source": [
        "##### Adam을 적용한 VGG16 모델 생성"
      ]
    },
    {
      "cell_type": "code",
      "metadata": {
        "id": "ahgtVb1ed49q"
      },
      "source": [
        "# 사용하려는 데이터 세트의 클래스 수\n",
        "n_class=3\n",
        "# pretrained 하이퍼파라미터를 True로 설정하여 전이학습 이용 \n",
        "model_ft = models.vgg16_bn(pretrained=True)\n",
        "# 나의 테이터셋 클래스 수에 맞게 FC Layer를 추가하여 사용\n",
        "model_ft.classifier.add_module(module=nn.Linear(1000, n_class), name='7')\n",
        "\n",
        "model_ft = model_ft.to(device)\n",
        "\n",
        "criterion = nn.CrossEntropyLoss()\n",
        "\n",
        "# Adam 옵티마이저 객체 생성\n",
        "optimizer_ft = optim.Adam(model_ft.parameters(), lr=0.001)\n",
        "\n",
        "# 7 에폭마다 0.1씩 학습률 감소\n",
        "exp_lr_scheduler = lr_scheduler.StepLR(optimizer_ft, step_size=7, gamma=0.1)"
      ],
      "execution_count": null,
      "outputs": []
    },
    {
      "cell_type": "markdown",
      "metadata": {
        "id": "M3xrSWU5Thw3"
      },
      "source": [
        "##### RMSprop을 적용한 VGG16 모델 생성"
      ]
    },
    {
      "cell_type": "code",
      "metadata": {
        "id": "nNnUfRsqqz9O"
      },
      "source": [
        "# 사용하려는 데이터 세트의 클래스 수\n",
        "n_class=3\n",
        "# pretrained 하이퍼파라미터를 True로 설정하여 전이학습 이용 \n",
        "model_ft2 = models.vgg16_bn(pretrained=True)\n",
        "# 나의 테이터셋 클래스 수에 맞게 FC Layer를 추가하여 사용\n",
        "model_ft2.classifier.add_module(module=nn.Linear(1000, n_class), name='7')\n",
        "\n",
        "model_ft2 = model_ft2.to(device)\n",
        "\n",
        "criterion = nn.CrossEntropyLoss()\n",
        "\n",
        "# RMSprop 옵티마이저 객체 생성\n",
        "optimizer_ft2 = optim.RMSprop(model_ft2.parameters(), lr=0.001)\n",
        "\n",
        "# 7 에폭마다 0.1씩 학습률 감소\n",
        "exp_lr_scheduler2 = lr_scheduler.StepLR(optimizer_ft2, step_size=7, gamma=0.1)"
      ],
      "execution_count": null,
      "outputs": []
    },
    {
      "cell_type": "markdown",
      "metadata": {
        "id": "ZhSYv-Xff1Zw"
      },
      "source": [
        "### 모델 학습 및 평가\n"
      ]
    },
    {
      "cell_type": "code",
      "metadata": {
        "id": "LaAmXceUd8QD"
      },
      "source": [
        "## VGG16 & Adam 모델 학습\n",
        "# 손실 측정을 위한 리스트\n",
        "result_loss = []\n",
        "# 정확도 측정을 위한 리스트\n",
        "result_acc = []\n",
        "\n",
        "[model_ft, result_loss, result_acc] = train_model(model_ft, criterion, optimizer_ft, exp_lr_scheduler,\n",
        "                       num_epochs=25)"
      ],
      "execution_count": null,
      "outputs": []
    },
    {
      "cell_type": "code",
      "metadata": {
        "id": "bifRnKpNrWHn"
      },
      "source": [
        "## VGG16 & RMSprop 모델 학습\n",
        "# 손실 측정을 위한 리스트\n",
        "result_loss2 = []\n",
        "# 정확도 측정을 위한 리스트\n",
        "result_acc2 = []\n",
        "\n",
        "[model_ft2, result_loss2, result_acc2] = train_model(model_ft2, criterion, optimizer_ft2, exp_lr_scheduler2,\n",
        "                       num_epochs=25)"
      ],
      "execution_count": null,
      "outputs": []
    },
    {
      "cell_type": "markdown",
      "metadata": {
        "id": "q2s1-f7SZAuY"
      },
      "source": [
        "### 모델 성능 시각화"
      ]
    },
    {
      "cell_type": "code",
      "metadata": {
        "id": "rS1BxMwY09D7"
      },
      "source": [
        "## 손실 시각화\n",
        "plt.plot([i for i in range(1, 26)], result_loss, \"b--\")\n",
        "plt.plot([i for i in range(1, 26)], result_loss2, \"r--\")\n",
        "plt.title('Covid19 - [Loss]')\n",
        "plt.xlabel('epoch')\n",
        "plt.ylabel('loss')\n",
        "plt.legend(['Adam','RMSprop'])\n",
        "plt.show()\n",
        "\n",
        "## 정확도 시각화\n",
        "plt.plot([i for i in range(1, 26)], result_acc, \"b--\")\n",
        "plt.plot([i for i in range(1, 26)], result_acc2, \"r--\")\n",
        "plt.title('Covid19 - [Accuracy]')\n",
        "plt.xlabel('epoch')\n",
        "plt.ylabel('accuracy')\n",
        "plt.legend(['Adam','RMSprop'])\n",
        "plt.show()"
      ],
      "execution_count": null,
      "outputs": []
    },
    {
      "cell_type": "markdown",
      "metadata": {
        "id": "OnOqlijnZMS0"
      },
      "source": [
        "### 모델 저장"
      ]
    },
    {
      "cell_type": "code",
      "metadata": {
        "id": "O2PsZxtYZeba"
      },
      "source": [
        "torch.save(model_ft,'./model.pth')"
      ],
      "execution_count": null,
      "outputs": []
    },
    {
      "cell_type": "code",
      "metadata": {
        "id": "RR5mA9LXczrE"
      },
      "source": [
        "resnet=torch.load('./model.pth')"
      ],
      "execution_count": null,
      "outputs": []
    },
    {
      "cell_type": "code",
      "metadata": {
        "id": "yp5eRjmYd90u"
      },
      "source": [
        "visualize_model(resnet)"
      ],
      "execution_count": null,
      "outputs": []
    }
  ]
}