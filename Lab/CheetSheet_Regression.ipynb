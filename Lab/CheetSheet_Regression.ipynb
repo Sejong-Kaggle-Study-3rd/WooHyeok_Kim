{
  "nbformat": 4,
  "nbformat_minor": 0,
  "metadata": {
    "colab": {
      "name": "CheetSheet_Regression.ipynb",
      "provenance": []
    },
    "kernelspec": {
      "name": "python3",
      "display_name": "Python 3"
    }
  },
  "cells": [
    {
      "cell_type": "markdown",
      "metadata": {
        "id": "YkZ95vl35_SM"
      },
      "source": [
        "# 회귀 문제 데이터셋\n",
        "## 아래의 두 예제 중 원하는 데이터 Cell 만 실행\n",
        "- 보스턴 집값 예측 문제\n",
        "- 캘리포니아 집값 예측 문제"
      ]
    },
    {
      "cell_type": "code",
      "metadata": {
        "id": "Xy974v-GvoNN",
        "colab": {
          "base_uri": "https://localhost:8080/"
        },
        "outputId": "74488fc8-7e0f-4e39-bfb2-390367346748"
      },
      "source": [
        "### Boston Housing\n",
        "### Missing 없음\n",
        "from sklearn import datasets\n",
        "price=datasets.load_boston()\n",
        "\n",
        "n_samples = len(price.data)\n",
        "data = price.data.reshape((n_samples, -1))\n",
        "print(data.shape)\n",
        "\n",
        "from sklearn.model_selection import train_test_split\n",
        "X_train, X_test, y_train, y_test = train_test_split(data, price.target, test_size=0.3, shuffle=True)\n",
        "print(y_train.size)\n",
        "print(y_test.size)"
      ],
      "execution_count": 14,
      "outputs": [
        {
          "output_type": "stream",
          "text": [
            "(506, 13)\n",
            "354\n",
            "152\n"
          ],
          "name": "stdout"
        }
      ]
    },
    {
      "cell_type": "code",
      "metadata": {
        "id": "CHN4YGV9v2pu",
        "colab": {
          "base_uri": "https://localhost:8080/"
        },
        "outputId": "a990a9b1-5291-4ab1-832d-d1ef19d059c5"
      },
      "source": [
        "### California Housing \n",
        "### Missing 없음\n",
        "\n",
        "from sklearn import datasets\n",
        "price=datasets.fetch_california_housing()\n",
        "\n",
        "n_samples = len(price.data)\n",
        "data = price.data.reshape((n_samples, -1))\n",
        "print(data.shape)\n",
        "\n",
        "from sklearn.model_selection import train_test_split\n",
        "X_train, X_test, y_train, y_test = train_test_split(data, price.target, test_size=0.3, shuffle=True)\n",
        "print(y_train.size)\n",
        "print(y_test.size)"
      ],
      "execution_count": 39,
      "outputs": [
        {
          "output_type": "stream",
          "text": [
            "(20640, 8)\n",
            "14448\n",
            "6192\n"
          ],
          "name": "stdout"
        }
      ]
    },
    {
      "cell_type": "markdown",
      "metadata": {
        "id": "WGd2EG4r6LWJ"
      },
      "source": [
        "# 회귀 알고리즘 별 성능 평가\n",
        "## [1] 데이터 전처리 본인 스스로 공부!!\n",
        "## [2] 각 알고리즘 마다 설정 가능한 파라미터는 본인 스스로 공부!\n",
        "- Linear Regressor\n",
        "- KNN Regressor\n",
        "- Decision Tree Regressor"
      ]
    },
    {
      "cell_type": "markdown",
      "metadata": {
        "id": "FJx-x3oZ5S6T"
      },
      "source": [
        "### Linear regression with Leaset square"
      ]
    },
    {
      "cell_type": "code",
      "metadata": {
        "id": "Q9c07fV25Jkg",
        "colab": {
          "base_uri": "https://localhost:8080/"
        },
        "outputId": "e8cc7e57-9696-4cf7-d957-3eac620d7b62"
      },
      "source": [
        "# 표준화\n",
        "from sklearn.preprocessing import StandardScaler\n",
        "std = StandardScaler()\n",
        "X_train_std = std.fit_transform(X_train)\n",
        "X_test_std = std.transform(X_test)\n",
        "\n",
        "from sklearn.linear_model import LinearRegression\n",
        "\n",
        "regressor = LinearRegression()\n",
        "regressor.fit(X_train, y_train)\n",
        "\n",
        "y_train_pred = regressor.predict(X_train)\n",
        "y_test_pred = regressor.predict(X_test)\n",
        "\n",
        "from sklearn.metrics import mean_squared_error\n",
        "print(mean_squared_error(y_train, y_train_pred))\n",
        "print(mean_squared_error(y_test, y_test_pred))\n"
      ],
      "execution_count": 17,
      "outputs": [
        {
          "output_type": "stream",
          "text": [
            "0.5238580512851387\n",
            "0.526065584055217\n"
          ],
          "name": "stdout"
        }
      ]
    },
    {
      "cell_type": "markdown",
      "metadata": {
        "id": "1thO3K4ax6AX"
      },
      "source": [
        "### KNN"
      ]
    },
    {
      "cell_type": "code",
      "metadata": {
        "id": "ZiVluJohwVDJ",
        "colab": {
          "base_uri": "https://localhost:8080/"
        },
        "outputId": "b0ca0604-a851-4246-a3d0-b73a658b989d"
      },
      "source": [
        "from sklearn.neighbors import KNeighborsRegressor\n",
        "regressor = KNeighborsRegressor(n_neighbors=8, weights='distance')\n",
        "\n",
        "regressor.fit(X_train, y_train)\n",
        "\n",
        "y_train_pred = regressor.predict(X_train)\n",
        "y_test_pred = regressor.predict(X_test)\n",
        "\n",
        "from sklearn.metrics import mean_squared_error\n",
        "print(mean_squared_error(y_train, y_train_pred))\n",
        "print(mean_squared_error(y_test, y_test_pred))\n",
        "\n"
      ],
      "execution_count": 35,
      "outputs": [
        {
          "output_type": "stream",
          "text": [
            "0.0\n",
            "1.089069396148052\n"
          ],
          "name": "stdout"
        }
      ]
    },
    {
      "cell_type": "markdown",
      "metadata": {
        "id": "fwVnYWGSx7rg"
      },
      "source": [
        "### Decision Tree"
      ]
    },
    {
      "cell_type": "code",
      "metadata": {
        "id": "qMJkPvF4xRbg",
        "colab": {
          "base_uri": "https://localhost:8080/"
        },
        "outputId": "1a41a60c-4ec9-4672-99d5-3ca00e24b35c"
      },
      "source": [
        "from sklearn.tree import DecisionTreeRegressor\n",
        "\n",
        "regressor = DecisionTreeRegressor(random_state=1, max_depth=8)\n",
        "regressor.fit(X_train, y_train)\n",
        "\n",
        "y_train_pred = regressor.predict(X_train)\n",
        "y_test_pred = regressor.predict(X_test)\n",
        "\n",
        "from sklearn.metrics import mean_squared_error\n",
        "print(mean_squared_error(y_train, y_train_pred))\n",
        "print(mean_squared_error(y_test, y_test_pred))\n"
      ],
      "execution_count": 56,
      "outputs": [
        {
          "output_type": "stream",
          "text": [
            "0.3066963942597651\n",
            "0.3993206561661607\n"
          ],
          "name": "stdout"
        }
      ]
    }
  ]
}