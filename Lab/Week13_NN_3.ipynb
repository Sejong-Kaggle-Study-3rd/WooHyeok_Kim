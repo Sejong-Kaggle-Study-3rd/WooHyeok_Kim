{
  "nbformat": 4,
  "nbformat_minor": 0,
  "metadata": {
    "colab": {
      "name": "Week13_NN_3",
      "provenance": [],
      "collapsed_sections": []
    },
    "kernelspec": {
      "name": "python3",
      "display_name": "Python 3"
    },
    "accelerator": "GPU"
  },
  "cells": [
    {
      "cell_type": "markdown",
      "metadata": {
        "id": "iv40oIya3MlK"
      },
      "source": [
        "# 다양한 실험\n",
        "• ① Random Init / NN Layer #1 (784=>10) / SGD / CrossEntropy\n",
        "- https://colab.research.google.com/drive/15ArrVdJELyV-PeuATH5poe2uZoHm6Ih8\n",
        "\n",
        "• ② Random Init / NN Layer #1 (784=>10) / Adam / CrossEntropy\n",
        "- https://colab.research.google.com/drive/1bimNZtout48XzSy7VoWbmdpOHQ-SAkHX\n",
        "\n",
        "• ③ Random Init / NN Layer #3 (784=>256=>10) / Adam / CrossEntropy\n",
        "- https://colab.research.google.com/drive/1jsP6IkoSZW5roMip53QSPJjiVP6Ej3Zk\n",
        "\n",
        "• Xavier Init / NN Layer #3 (784=>256=>10) / Adam / CrossEntropy\n",
        "- https://colab.research.google.com/drive/1CI11CA5otqB7-RsQLKak3LJW3xeCUr9q\n",
        "\n",
        "• Xavier Init / DNN Layer #5 (784=>256=>10) / Adam / CrossEntropy\n",
        "- https://colab.research.google.com/drive/1y9qF3D4vbQVhX_dZCgplRuw_EcgW8Sg2\n",
        "\n",
        "• Xavier Init / DNN Layer #5 (784=>256=>256=>256=>10) / Adam / CrossEntropy / \n",
        "dropout (0.3)\n",
        "- https://colab.research.google.com/drive/15Q5GSAPgsHeR0Y70zaiigHBBo4kwJ86o\n",
        "\n",
        "• SGD Adam NN Xavier DNN Dropout\n",
        "- 0.42/ 0.77/ 0.94/ 0.9791/ 0.9824/ 0.9776"
      ]
    },
    {
      "cell_type": "markdown",
      "metadata": {
        "id": "YUlzM2iy4NZG"
      },
      "source": [
        "### • ① Random Init / NN Layer #1 (784=>10) / SGD / CrossEntropy"
      ]
    },
    {
      "cell_type": "code",
      "metadata": {
        "id": "Y3bpvTNIRwWl"
      },
      "source": [
        "import torch\n",
        "import torchvision.datasets as data\n",
        "import torchvision.transforms as transforms\n",
        "import random"
      ],
      "execution_count": null,
      "outputs": []
    },
    {
      "cell_type": "code",
      "metadata": {
        "id": "QICWFIJUR6PL"
      },
      "source": [
        "device = 'cuda' if torch.cuda.is_available() else 'cpu'\n",
        "\n",
        "random.seed(777)\n",
        "torch.manual_seed(777)\n",
        "if device == 'cuda':\n",
        "  torch.cuda.manual_seed_all(777)"
      ],
      "execution_count": null,
      "outputs": []
    },
    {
      "cell_type": "code",
      "metadata": {
        "id": "gh_Yz21HVs0V"
      },
      "source": [
        "# 학습 파라미터 설정\n",
        "learning_rate = 0.001\n",
        "training_epochs = 15\n",
        "batch_size = 100"
      ],
      "execution_count": null,
      "outputs": []
    },
    {
      "cell_type": "markdown",
      "metadata": {
        "id": "Vp-n_5AU2hyR"
      },
      "source": [
        "root: 저장경로\n",
        "학습/테스트 데이터 선택: True 학습데이터\n",
        "transform:\n",
        "download: \n"
      ]
    },
    {
      "cell_type": "code",
      "metadata": {
        "id": "9EVz_27QV_AJ"
      },
      "source": [
        "mnist_train = data.MNIST(root='MNIST_data/',\n",
        "                         train=True,\n",
        "                         transform=transforms.ToTensor(),\n",
        "                         download=True)\n",
        "\n",
        "mnist_test = data.MNIST(root='MNIST_data/',\n",
        "                         train=False,\n",
        "                         transform=transforms.ToTensor(),\n",
        "                         download=True)"
      ],
      "execution_count": null,
      "outputs": []
    },
    {
      "cell_type": "code",
      "metadata": {
        "id": "-Ae1Q7WXWJcc"
      },
      "source": [
        "\n",
        "data_loader = torch.utils.data.DataLoader(dataset=mnist_train,\n",
        "                                          batch_size=batch_size,\n",
        "                                          shuffle=True,\n",
        "                                          drop_last=True)\n"
      ],
      "execution_count": null,
      "outputs": []
    },
    {
      "cell_type": "markdown",
      "metadata": {
        "id": "R0Tk0BBFzOJq"
      },
      "source": [
        "![대체 텍스트](https://user-images.githubusercontent.com/11758940/83336289-229ec200-a2ed-11ea-9fb8-88a51198e475.png)"
      ]
    },
    {
      "cell_type": "code",
      "metadata": {
        "id": "ntcrgdljaxST"
      },
      "source": [
        "linear = torch.nn.Linear(784,10,bias=True)"
      ],
      "execution_count": null,
      "outputs": []
    },
    {
      "cell_type": "markdown",
      "metadata": {
        "id": "OUqE8Uibc4xH"
      },
      "source": [
        "[메뉴얼] https://pytorch.org/docs/stable/nn.init.html#torch.nn.init.normal_"
      ]
    },
    {
      "cell_type": "code",
      "metadata": {
        "id": "MrpNg6XycEWE",
        "colab": {
          "base_uri": "https://localhost:8080/"
        },
        "outputId": "6cfd5374-c73d-48bb-fb15-91a59646f2e0"
      },
      "source": [
        "torch.nn.init.normal_(linear.weight)"
      ],
      "execution_count": null,
      "outputs": [
        {
          "output_type": "execute_result",
          "data": {
            "text/plain": [
              "Parameter containing:\n",
              "tensor([[-0.1953, -0.4404,  0.0139,  ...,  0.7510,  1.5190,  0.9637],\n",
              "        [ 0.4146, -1.0660, -0.9969,  ..., -0.3259, -0.2695, -1.3316],\n",
              "        [ 0.2600, -1.1821,  0.0065,  ...,  1.0648, -1.2251,  0.9841],\n",
              "        ...,\n",
              "        [ 0.0279, -1.7242, -1.1723,  ...,  1.3651, -0.0689, -0.7931],\n",
              "        [ 0.0952,  0.1939,  0.1636,  ..., -1.0489,  0.6224, -1.7181],\n",
              "        [ 2.6504,  0.6297, -1.6571,  ..., -0.0781, -1.1398, -0.8711]],\n",
              "       requires_grad=True)"
            ]
          },
          "metadata": {
            "tags": []
          },
          "execution_count": 23
        }
      ]
    },
    {
      "cell_type": "code",
      "metadata": {
        "id": "9k08MAGZ326V"
      },
      "source": [
        "model = torch.nn.Sequential(linear).to(device) # 'cuda'"
      ],
      "execution_count": null,
      "outputs": []
    },
    {
      "cell_type": "markdown",
      "metadata": {
        "id": "fQxCfqMSces5"
      },
      "source": [
        "[메뉴얼] https://pytorch.org/docs/stable/nn.html#crossentropyloss"
      ]
    },
    {
      "cell_type": "code",
      "metadata": {
        "id": "o9WQWlFdcKaH"
      },
      "source": [
        "loss = torch.nn.CrossEntropyLoss().to(device)\n",
        "optimizer = torch.optim.SGD(model.parameters(), lr=learning_rate) # 0.49\n",
        "# optimizer = torch.optim.Adam(model.parameters(), lr=learning_rate) # 0.89"
      ],
      "execution_count": null,
      "outputs": []
    },
    {
      "cell_type": "code",
      "metadata": {
        "id": "yQu5p_pTcRFI",
        "colab": {
          "base_uri": "https://localhost:8080/"
        },
        "outputId": "8a2f3401-a355-4cea-b397-df80825c7864"
      },
      "source": [
        "\n",
        "total_batch = len(data_loader) # 600개 -> 데이터: 60000개, mini-batch: 100개\n",
        "for epoch in range(training_epochs):\n",
        "    avg_cost = 0\n",
        "\n",
        "    for X, Y in data_loader:\n",
        "\n",
        "        # (100, 1, 28, 28) 크기의 텐서를 (100, 784) 크기의 텐서로 변형\n",
        "        X = X.view(-1, 28 * 28).to(device) # GPU에 태워야 됨\n",
        "        # one-hot encoding되어 있지 않음\n",
        "        Y = Y.to(device)\n",
        "        #%debug\n",
        "\n",
        "        # 그래디언트 초기화\n",
        "        optimizer.zero_grad()\n",
        "        # Forward 계산\n",
        "        hypothesis = model(X)\n",
        "        # Error 계산\n",
        "        cost = loss(hypothesis, Y)\n",
        "        # Backparopagation\n",
        "        cost.backward()\n",
        "        # 가중치 갱신\n",
        "        optimizer.step()\n",
        "\n",
        "        # 평균 Error 계산\n",
        "        avg_cost += cost / total_batch\n",
        "\n",
        "    print('Epoch:', '%04d' % (epoch + 1), 'cost =', '{:.9f}'.format(avg_cost))\n",
        "\n",
        "print('Learning finished')"
      ],
      "execution_count": null,
      "outputs": [
        {
          "output_type": "stream",
          "text": [
            "Epoch: 0001 cost = 14.412127495\n",
            "Epoch: 0002 cost = 12.303294182\n",
            "Epoch: 0003 cost = 10.895568848\n",
            "Epoch: 0004 cost = 9.731603622\n",
            "Epoch: 0005 cost = 8.741955757\n",
            "Epoch: 0006 cost = 7.915794849\n",
            "Epoch: 0007 cost = 7.235562325\n",
            "Epoch: 0008 cost = 6.667675972\n",
            "Epoch: 0009 cost = 6.180422306\n",
            "Epoch: 0010 cost = 5.753479004\n",
            "Epoch: 0011 cost = 5.375113487\n",
            "Epoch: 0012 cost = 5.038181782\n",
            "Epoch: 0013 cost = 4.737372875\n",
            "Epoch: 0014 cost = 4.468424320\n",
            "Epoch: 0015 cost = 4.227678299\n",
            "Learning finished\n"
          ],
          "name": "stdout"
        }
      ]
    },
    {
      "cell_type": "code",
      "metadata": {
        "id": "z_SQp0GxdJfc",
        "colab": {
          "base_uri": "https://localhost:8080/"
        },
        "outputId": "4f6ed8be-96b7-4444-c0ac-54ba07e5a3f3"
      },
      "source": [
        "# Test the model using test sets\n",
        "with torch.no_grad():\n",
        "    # flaot() : GPU=>CPU로 데이터 내리기 -> 하지만 여기서는 단순히 type 바꿔주는 역할\n",
        "    X_test = mnist_test.test_data.view(-1, 28 * 28).float().to(device)\n",
        "    Y_test = mnist_test.test_labels.to(device)\n",
        "\n",
        "    prediction = model(X_test)\n",
        "    correct_prediction = torch.argmax(prediction, 1) == Y_test # 10개의 클래스 중 확률값이 가장 큰 것 -> 1\n",
        "    accuracy = correct_prediction.float().mean()\n",
        "    print('Accuracy:', accuracy.item())\n"
      ],
      "execution_count": null,
      "outputs": [
        {
          "output_type": "stream",
          "text": [
            "Accuracy: 0.42159998416900635\n"
          ],
          "name": "stdout"
        },
        {
          "output_type": "stream",
          "text": [
            "/usr/local/lib/python3.7/dist-packages/torchvision/datasets/mnist.py:67: UserWarning: test_data has been renamed data\n",
            "  warnings.warn(\"test_data has been renamed data\")\n",
            "/usr/local/lib/python3.7/dist-packages/torchvision/datasets/mnist.py:57: UserWarning: test_labels has been renamed targets\n",
            "  warnings.warn(\"test_labels has been renamed targets\")\n"
          ],
          "name": "stderr"
        }
      ]
    },
    {
      "cell_type": "code",
      "metadata": {
        "id": "i425y53v4tvo",
        "colab": {
          "base_uri": "https://localhost:8080/"
        },
        "outputId": "c7b0b6f1-7274-4723-cbe8-8e294b5be9e6"
      },
      "source": [
        "# 랜덤 테스트\n",
        "r = random.randint(0, len(mnist_test) - 1)\n",
        "X_single_data = mnist_test.test_data[r:r + 1].view(-1, 28 * 28).float().to(device)\n",
        "Y_single_data = mnist_test.test_labels[r:r + 1].to(device)\n",
        "\n",
        "print('Label: ', Y_single_data.item())\n",
        "single_prediction = model(X_single_data)\n",
        "print('Prediction: ', torch.argmax(single_prediction, 1).item())"
      ],
      "execution_count": null,
      "outputs": [
        {
          "output_type": "stream",
          "text": [
            "Label:  8\n",
            "Prediction:  7\n"
          ],
          "name": "stdout"
        },
        {
          "output_type": "stream",
          "text": [
            "/usr/local/lib/python3.7/dist-packages/torchvision/datasets/mnist.py:67: UserWarning: test_data has been renamed data\n",
            "  warnings.warn(\"test_data has been renamed data\")\n",
            "/usr/local/lib/python3.7/dist-packages/torchvision/datasets/mnist.py:57: UserWarning: test_labels has been renamed targets\n",
            "  warnings.warn(\"test_labels has been renamed targets\")\n"
          ],
          "name": "stderr"
        }
      ]
    },
    {
      "cell_type": "code",
      "metadata": {
        "id": "m_d7k5fy5vsv",
        "colab": {
          "base_uri": "https://localhost:8080/",
          "height": 283
        },
        "outputId": "f630c934-59ae-4e02-963f-f18337ebc8d4"
      },
      "source": [
        "# 숫자 눈으로 뿌려보기\n",
        "import matplotlib.pyplot as plt\n",
        "plt.imshow(X_single_data.reshape(28,28).cpu())\n",
        "print(Y_single_data)"
      ],
      "execution_count": null,
      "outputs": [
        {
          "output_type": "stream",
          "text": [
            "tensor([8], device='cuda:0')\n"
          ],
          "name": "stdout"
        },
        {
          "output_type": "display_data",
          "data": {
            "image/png": "[encoded data removed]",
            "text/plain": [
              "<Figure size 432x288 with 1 Axes>"
            ]
          },
          "metadata": {
            "tags": [],
            "needs_background": "light"
          }
        }
      ]
    }
  ]
}