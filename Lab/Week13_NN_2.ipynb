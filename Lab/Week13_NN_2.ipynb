{
  "nbformat": 4,
  "nbformat_minor": 0,
  "metadata": {
    "colab": {
      "name": "Week13_NN_2",
      "provenance": [],
      "collapsed_sections": []
    },
    "kernelspec": {
      "name": "python3",
      "display_name": "Python 3"
    }
  },
  "cells": [
    {
      "cell_type": "markdown",
      "metadata": {
        "id": "3nel5KbQk6NW"
      },
      "source": [
        "## Multi-Layer Perceptron (NN) -> MLP\n",
        "- 은닉층이 두개 이상인 신경망 구조\n",
        "- XOR 문제를 해결 할 수 있다."
      ]
    },
    {
      "cell_type": "markdown",
      "metadata": {
        "id": "0a8r2FdxmCLA"
      },
      "source": [
        "### 데이터 입출력 정의"
      ]
    },
    {
      "cell_type": "code",
      "metadata": {
        "id": "FVxuoNM4k4RO"
      },
      "source": [
        "import torch"
      ],
      "execution_count": null,
      "outputs": []
    },
    {
      "cell_type": "code",
      "metadata": {
        "id": "REdopVKHlFYN",
        "colab": {
          "base_uri": "https://localhost:8080/"
        },
        "outputId": "b78c1de8-c85a-4344-8aab-f115b0e9407c"
      },
      "source": [
        "torch.manual_seed(777)"
      ],
      "execution_count": null,
      "outputs": [
        {
          "output_type": "execute_result",
          "data": {
            "text/plain": [
              "<torch._C.Generator at 0x7fb36a343ab0>"
            ]
          },
          "metadata": {
            "tags": []
          },
          "execution_count": 2
        }
      ]
    },
    {
      "cell_type": "code",
      "metadata": {
        "id": "G-7wlisFlHae"
      },
      "source": [
        "X = torch.FloatTensor([[0,0], [0,1], [1,0],[1,1]])\n",
        "Y = torch.FloatTensor([[0],[1],[1],[0]])"
      ],
      "execution_count": null,
      "outputs": []
    },
    {
      "cell_type": "code",
      "metadata": {
        "id": "_qQ3IyHGlMbe",
        "colab": {
          "base_uri": "https://localhost:8080/"
        },
        "outputId": "e0dadc00-187e-4773-bd4a-3ce6fb3fb8da"
      },
      "source": [
        "X"
      ],
      "execution_count": null,
      "outputs": [
        {
          "output_type": "execute_result",
          "data": {
            "text/plain": [
              "tensor([[0., 0.],\n",
              "        [0., 1.],\n",
              "        [1., 0.],\n",
              "        [1., 1.]])"
            ]
          },
          "metadata": {
            "tags": []
          },
          "execution_count": 5
        }
      ]
    },
    {
      "cell_type": "code",
      "metadata": {
        "id": "XDGywTUZlQVG",
        "colab": {
          "base_uri": "https://localhost:8080/"
        },
        "outputId": "1fe1f844-2f08-4b6f-ce79-c5129d2ef581"
      },
      "source": [
        "Y"
      ],
      "execution_count": null,
      "outputs": [
        {
          "output_type": "execute_result",
          "data": {
            "text/plain": [
              "tensor([[0.],\n",
              "        [1.],\n",
              "        [1.],\n",
              "        [0.]])"
            ]
          },
          "metadata": {
            "tags": []
          },
          "execution_count": 6
        }
      ]
    },
    {
      "cell_type": "markdown",
      "metadata": {
        "id": "iIirpZeFl8oA"
      },
      "source": [
        "### NN 모델 정의 \n",
        "- Perceptron과 차이는 모델 설계 부분"
      ]
    },
    {
      "cell_type": "code",
      "metadata": {
        "id": "qfLQLAublQoV"
      },
      "source": [
        "## 모델 설계\n",
        "layer1 = torch.nn.Linear(2,10,bias=True)\n",
        "layer2 = torch.nn.Linear(10,10,bias=True)\n",
        "layer3 = torch.nn.Linear(10,10,bias=True)\n",
        "layer4 = torch.nn.Linear(10,1,bias=True)\n",
        "sigmoid = torch.nn.Sigmoid()"
      ],
      "execution_count": null,
      "outputs": []
    },
    {
      "cell_type": "code",
      "metadata": {
        "id": "YE3xt7E9ldAE"
      },
      "source": [
        "model = torch.nn.Sequential(layer1,sigmoid,layer2,sigmoid,layer3,sigmoid,layer4,sigmoid)\n",
        "# 성능을 높이기 위해 더 깊게 쌓아보자!"
      ],
      "execution_count": null,
      "outputs": []
    },
    {
      "cell_type": "code",
      "metadata": {
        "id": "jORhIVqSrYUH",
        "colab": {
          "base_uri": "https://localhost:8080/"
        },
        "outputId": "50de667f-a63b-4bf4-df04-fcc051bfd293"
      },
      "source": [
        "model"
      ],
      "execution_count": null,
      "outputs": [
        {
          "output_type": "execute_result",
          "data": {
            "text/plain": [
              "Sequential(\n",
              "  (0): Linear(in_features=2, out_features=10, bias=True)\n",
              "  (1): Sigmoid()\n",
              "  (2): Linear(in_features=10, out_features=10, bias=True)\n",
              "  (3): Sigmoid()\n",
              "  (4): Linear(in_features=10, out_features=10, bias=True)\n",
              "  (5): Sigmoid()\n",
              "  (6): Linear(in_features=10, out_features=1, bias=True)\n",
              "  (7): Sigmoid()\n",
              ")"
            ]
          },
          "metadata": {
            "tags": []
          },
          "execution_count": 10
        }
      ]
    },
    {
      "cell_type": "markdown",
      "metadata": {
        "id": "Q8TcUc92l52r"
      },
      "source": [
        "### 모델 학습"
      ]
    },
    {
      "cell_type": "code",
      "metadata": {
        "id": "VvnnReW2loXI"
      },
      "source": [
        "loss = torch.nn.BCELoss()\n",
        "optimizer = torch.optim.SGD(model.parameters(), lr=1)"
      ],
      "execution_count": null,
      "outputs": []
    },
    {
      "cell_type": "code",
      "metadata": {
        "id": "Px1iYcB9lq-I",
        "colab": {
          "base_uri": "https://localhost:8080/"
        },
        "outputId": "24e9497f-23cc-4d6f-b9c2-b59366e6b1bb"
      },
      "source": [
        "for stop in range(10000):\n",
        "    \n",
        "    # 그래디언트 초기화\n",
        "    optimizer.zero_grad()\n",
        "    # Forward 계산\n",
        "    hypothesis = model(X)\n",
        "    # Error 계산\n",
        "    cost = loss(hypothesis, Y)\n",
        "    # Backward 계산 \n",
        "    cost.backward()\n",
        "    # 가중치 갱신\n",
        "    optimizer.step()\n",
        "\n",
        "    if stop % 100 == 0:\n",
        "        print(stop, cost.item())\n"
      ],
      "execution_count": null,
      "outputs": [
        {
          "output_type": "stream",
          "text": [
            "0 9.452266385778785e-05\n",
            "100 9.315162606071681e-05\n",
            "200 9.179548942483962e-05\n",
            "300 9.046916966326535e-05\n",
            "400 8.920244727050886e-05\n",
            "500 8.790592983132228e-05\n",
            "600 8.67286289576441e-05\n",
            "700 8.5506631876342e-05\n",
            "800 8.437404176220298e-05\n",
            "900 8.324145892402157e-05\n",
            "1000 8.213867840822786e-05\n",
            "1100 8.108060137601569e-05\n",
            "1200 8.00374400569126e-05\n",
            "1300 7.89942714618519e-05\n",
            "1400 7.799581362633035e-05\n",
            "1500 7.704205927439034e-05\n",
            "1600 7.61032133596018e-05\n",
            "1700 7.516436744481325e-05\n",
            "1800 7.427022501360625e-05\n",
            "1900 7.339099829550833e-05\n",
            "2000 7.252666546264663e-05\n",
            "2100 7.166233262978494e-05\n",
            "2200 7.082780211931095e-05\n",
            "2300 7.006779196672142e-05\n",
            "2400 6.924816989339888e-05\n",
            "2500 6.847325130365789e-05\n",
            "2600 6.772813503630459e-05\n",
            "2700 6.695322372252122e-05\n",
            "2800 6.625282549066469e-05\n",
            "2900 6.552261766046286e-05\n",
            "3000 6.485202175099403e-05\n",
            "3100 6.413672235794365e-05\n",
            "3200 6.348102760966867e-05\n",
            "3300 6.281043170019984e-05\n",
            "3400 6.221434159670025e-05\n",
            "3500 6.154374568723142e-05\n",
            "3600 6.091785689932294e-05\n",
            "3700 6.033667887095362e-05\n",
            "3800 5.975549356662668e-05\n",
            "3900 5.917431553825736e-05\n",
            "4000 5.859313387190923e-05\n",
            "4100 5.804176180390641e-05\n",
            "4200 5.7490386097924784e-05\n",
            "4300 5.69241055927705e-05\n",
            "4400 5.6372729886788875e-05\n",
            "4500 5.588096610154025e-05\n",
            "4600 5.537429387914017e-05\n",
            "4700 5.4852724133525044e-05\n",
            "4800 5.4360956710297614e-05\n",
            "4900 5.388409772422165e-05\n",
            "5000 5.342213262338191e-05\n",
            "5100 5.294526999932714e-05\n",
            "5200 5.2468407375272363e-05\n",
            "5300 5.2006449550390244e-05\n",
            "5400 5.154448444955051e-05\n",
            "5500 5.1112328947056085e-05\n",
            "5600 5.069507460575551e-05\n",
            "5700 5.0248017942067236e-05\n",
            "5800 4.9860565923154354e-05\n",
            "5900 4.9443315219832584e-05\n",
            "6000 4.902606087853201e-05\n",
            "6100 4.860880289925262e-05\n",
            "6200 4.8236259317491204e-05\n",
            "6300 4.786370845977217e-05\n",
            "6400 4.746135891764425e-05\n",
            "6500 4.708881169790402e-05\n",
            "6600 4.6716264478163794e-05\n",
            "6700 4.634371725842357e-05\n",
            "6800 4.6000972361071035e-05\n",
            "6900 4.565823110169731e-05\n",
            "7000 4.530058868112974e-05\n",
            "7100 4.495784378377721e-05\n",
            "7200 4.4615098886424676e-05\n",
            "7300 4.427236126502976e-05\n",
            "7400 4.395942232804373e-05\n",
            "7500 4.363158222986385e-05\n",
            "7600 4.331864329287782e-05\n",
            "7700 4.297589839552529e-05\n",
            "7800 4.266295945853926e-05\n",
            "7900 4.2379826481919736e-05\n",
            "8000 4.2066891182912514e-05\n",
            "8100 4.1798659367486835e-05\n",
            "8200 4.14559144701343e-05\n",
            "8300 4.118768629268743e-05\n",
            "8400 4.08747473557014e-05\n",
            "8500 4.062141306349076e-05\n",
            "8600 4.0338280086871237e-05\n",
            "8700 4.004024594905786e-05\n",
            "8800 3.9816717617213726e-05\n",
            "8900 3.9533588278573006e-05\n",
            "9000 3.925045166397467e-05\n",
            "9100 3.8982219848548993e-05\n",
            "9200 3.872889283229597e-05\n",
            "9300 3.850536450045183e-05\n",
            "9400 3.823713632300496e-05\n",
            "9500 3.799870319198817e-05\n",
            "9600 3.7745376175735146e-05\n",
            "9700 3.7492045521503314e-05\n",
            "9800 3.725361602846533e-05\n",
            "9900 3.7000289012212306e-05\n"
          ],
          "name": "stdout"
        }
      ]
    },
    {
      "cell_type": "markdown",
      "metadata": {
        "id": "yU7LWgLfl3jN"
      },
      "source": [
        "### 모델 평가"
      ]
    },
    {
      "cell_type": "code",
      "metadata": {
        "id": "Ap0SGc0bl0WS",
        "colab": {
          "base_uri": "https://localhost:8080/"
        },
        "outputId": "d166cff7-3eee-4f92-ed8b-ecda96ffb9b5"
      },
      "source": [
        "## w,b 평가\n",
        "\n",
        "with torch.no_grad(): # 임시로 required_grad = false로 설정하는 것과 같다.\n",
        "\n",
        "    hypothesis = model(X)\n",
        "    predicted = (hypothesis > 0.5).float() # logistic regression => binary classification\n",
        "    accuracy = (predicted == Y).float().mean()\n",
        "    print('\\n Hypothesis: ', hypothesis.numpy(), '\\n Correct: ', predicted.numpy(), '\\n Accuracy: ', accuracy.item())\n"
      ],
      "execution_count": null,
      "outputs": [
        {
          "output_type": "stream",
          "text": [
            "\n",
            " Hypothesis:  [[2.8864795e-05]\n",
            " [9.9995327e-01]\n",
            " [9.9996269e-01]\n",
            " [3.4256238e-05]] \n",
            " Correct:  [[0.]\n",
            " [1.]\n",
            " [1.]\n",
            " [0.]] \n",
            " Accuracy:  1.0\n"
          ],
          "name": "stdout"
        }
      ]
    },
    {
      "cell_type": "code",
      "metadata": {
        "id": "xfIy1I_hl2ZK"
      },
      "source": [
        "# pytorch.org -> docs로 찾아서 하는 습관"
      ],
      "execution_count": null,
      "outputs": []
    }
  ]
}